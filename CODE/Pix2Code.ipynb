{
 "cells": [
  {
   "cell_type": "code",
   "execution_count": 1,
   "metadata": {
    "colab": {
     "base_uri": "https://localhost:8080/",
     "height": 80
    },
    "colab_type": "code",
    "executionInfo": {
     "elapsed": 2637,
     "status": "ok",
     "timestamp": 1584263275174,
     "user": {
      "displayName": "Sahaj d",
      "photoUrl": "",
      "userId": "13950582096679244504"
     },
     "user_tz": -330
    },
    "id": "H93caX3nWT9f",
    "outputId": "03bbf0b7-04d9-493f-b34a-062c740ac3ba"
   },
   "outputs": [
    {
     "name": "stderr",
     "output_type": "stream",
     "text": [
      "Using TensorFlow backend.\n"
     ]
    }
   ],
   "source": [
    "from keras.layers import Input, Dense, Dropout, \\\n",
    "                         RepeatVector, LSTM, concatenate, \\\n",
    "                         Conv2D, MaxPooling2D, Flatten\n",
    "from keras.models import Sequential, Model\n",
    "from keras.layers import Bidirectional\n",
    "from keras.optimizers import RMSprop\n",
    "from keras import *"
   ]
  },
  {
   "cell_type": "code",
   "execution_count": 2,
   "metadata": {
    "colab": {},
    "colab_type": "code",
    "id": "Ksq0QTxPWT9r"
   },
   "outputs": [],
   "source": [
    "from keras.models import model_from_json\n",
    "\n",
    "\n",
    "class AModel:\n",
    "    def __init__(self, input_shape, output_size, output_path):\n",
    "        self.model = None\n",
    "        self.input_shape = input_shape\n",
    "        self.output_size = output_size\n",
    "        self.output_path = output_path\n",
    "        self.name = \"\"\n",
    "\n",
    "    def save(self):\n",
    "        model_json = self.model.to_json()\n",
    "        with open(\"{}/{}.json\".format(self.output_path, self.name), \"w\") as json_file:\n",
    "            json_file.write(model_json)\n",
    "        self.model.save_weights(\"{}/{}.h5\".format(self.output_path, self.name))\n",
    "\n",
    "    def load(self, name=\"\"):\n",
    "        output_name = self.name if name == \"\" else name\n",
    "        with open(\"{}/{}.json\".format(self.output_path, output_name), \"r\") as json_file:\n",
    "            loaded_model_json = json_file.read()\n",
    "        self.model = model_from_json(loaded_model_json)\n",
    "        self.model.load_weights(\"{}/{}.h5\".format(self.output_path, output_name))"
   ]
  },
  {
   "cell_type": "code",
   "execution_count": 3,
   "metadata": {
    "colab": {},
    "colab_type": "code",
    "id": "z-QuA5TtWT9y"
   },
   "outputs": [],
   "source": [
    "CONTEXT_LENGTH = 48\n",
    "IMAGE_SIZE = 256\n",
    "BATCH_SIZE = 64\n",
    "EPOCHS = 10\n",
    "STEPS_PER_EPOCH = 72000\n",
    "weight_init=\"glorot_uniform\""
   ]
  },
  {
   "cell_type": "code",
   "execution_count": 4,
   "metadata": {
    "colab": {},
    "colab_type": "code",
    "id": "5BsknjvOWT93"
   },
   "outputs": [],
   "source": [
    "class pix2code(AModel):\n",
    "    def __init__(self, input_shape, output_size, output_path):\n",
    "        AModel.__init__(self, input_shape, output_size, output_path)\n",
    "        self.name = \"pix2code\"\n",
    "\n",
    "        image_model = Sequential()\n",
    "        image_model.add(Conv2D(32, (3, 3), padding='valid', activation='relu', input_shape=input_shape, kernel_initializer=weight_init))\n",
    "        image_model.add(Conv2D(32, (3, 3), padding='valid', activation='relu', kernel_initializer=weight_init))\n",
    "        image_model.add(MaxPooling2D(pool_size=(2, 2)))\n",
    "        image_model.add(Dropout(0.25))\n",
    "\n",
    "        image_model.add(Conv2D(64, (3, 3), padding='valid', activation='relu', kernel_initializer=weight_init))\n",
    "        image_model.add(Conv2D(64, (3, 3), padding='valid', activation='relu', kernel_initializer=weight_init))\n",
    "        image_model.add(MaxPooling2D(pool_size=(2, 2)))\n",
    "        image_model.add(Dropout(0.25))\n",
    "\n",
    "        image_model.add(Conv2D(128, (3, 3), padding='valid', activation='relu', kernel_initializer=weight_init))\n",
    "        image_model.add(Conv2D(128, (3, 3), padding='valid', activation='relu', kernel_initializer=weight_init))\n",
    "        image_model.add(MaxPooling2D(pool_size=(2, 2)))\n",
    "        image_model.add(Dropout(0.25))\n",
    "\n",
    "        image_model.add(Flatten())\n",
    "        image_model.add(Dense(1024, activation='relu', kernel_initializer=weight_init))\n",
    "        image_model.add(Dropout(0.3))\n",
    "        image_model.add(Dense(1024, activation='relu', kernel_initializer=weight_init))\n",
    "        image_model.add(Dropout(0.3))\n",
    "\n",
    "        image_model.add(RepeatVector(CONTEXT_LENGTH))\n",
    "\n",
    "        visual_input = Input(shape=input_shape)\n",
    "        encoded_image = image_model(visual_input)\n",
    "\n",
    "        language_model = Sequential()\n",
    "        #LSTM\n",
    "        #language_model.add(LSTM(128, return_sequences=True, input_shape=(CONTEXT_LENGTH, output_size)))\n",
    "        #language_model.add(LSTM(128, return_sequences=True))\n",
    "\n",
    "        #Bi-LSTM\n",
    "        language_model.add(Bidirectional(LSTM(128, return_sequences=True,kernel_initializer=weight_init), input_shape=(CONTEXT_LENGTH, output_size)))\n",
    "        language_model.add(Bidirectional(LSTM(128, return_sequences=True,kernel_initializer=weight_init)))\n",
    "\n",
    "        textual_input = Input(shape=(CONTEXT_LENGTH, output_size))\n",
    "        encoded_text = language_model(textual_input)\n",
    "\n",
    "        decoder = concatenate([encoded_image, encoded_text])\n",
    "        #LSTM\n",
    "        #decoder = LSTM(512, return_sequences=True)(decoder)\n",
    "        #decoder = LSTM(512, return_sequences=False)(decoder)\n",
    "        #decoder = Dense(output_size, activation='softmax')(decoder)\n",
    "\n",
    "        #Bi-LSTM\n",
    "        decoder = Bidirectional(LSTM(512, return_sequences=True,kernel_initializer=weight_init))(decoder)\n",
    "        decoder = Dropout(0.25)(decoder)\n",
    "        decoder = Bidirectional(LSTM(512, return_sequences=False,kernel_initializer=weight_init))(decoder)\n",
    "        decoder = Dense(output_size, activation='softmax',kernel_initializer=weight_init)(decoder)\n",
    "\n",
    "        self.model = Model(inputs=[visual_input, textual_input], outputs=decoder)\n",
    "\n",
    "        #LSTM\n",
    "        #optimizer = RMSprop(lr=0.0001, clipvalue=1.0)\n",
    "\n",
    "        #Bi-LSTM\n",
    "        optimizer = RMSprop(lr=0.0001, clipvalue=1.0)\n",
    "        self.model.compile(loss='categorical_crossentropy', optimizer=optimizer,metrics=['accuracy'])\n",
    "\n",
    "    def fit(self, images, partial_captions, next_words):\n",
    "        self.model.fit([images, partial_captions], next_words, shuffle=False, epochs=EPOCHS, batch_size=BATCH_SIZE, verbose=1)\n",
    "        self.save()\n",
    "\n",
    "    def fit_generator(self, generator, steps_per_epoch):\n",
    "        history = self.model.fit_generator(generator, steps_per_epoch=steps_per_epoch, epochs=EPOCHS, verbose=1)\n",
    "        self.save()\n",
    "        return history\n",
    "\n",
    "    def predict(self, image, partial_caption):\n",
    "        return self.model.predict([image, partial_caption], verbose=0)[0]\n",
    "\n",
    "    def predict_batch(self, images, partial_captions):\n",
    "        return self.model.predict([images, partial_captions], verbose=1)"
   ]
  },
  {
   "cell_type": "code",
   "execution_count": 0,
   "metadata": {
    "colab": {},
    "colab_type": "code",
    "id": "tPMk7gqvWT-A"
   },
   "outputs": [],
   "source": []
  }
 ],
 "metadata": {
  "colab": {
   "collapsed_sections": [],
   "name": "Pix2Code.ipynb",
   "provenance": []
  },
  "kernelspec": {
   "display_name": "Python 3",
   "language": "python",
   "name": "python3"
  },
  "language_info": {
   "codemirror_mode": {
    "name": "ipython",
    "version": 3
   },
   "file_extension": ".py",
   "mimetype": "text/x-python",
   "name": "python",
   "nbconvert_exporter": "python",
   "pygments_lexer": "ipython3",
   "version": "3.7.2"
  }
 },
 "nbformat": 4,
 "nbformat_minor": 1
}
