{
 "cells": [
  {
   "cell_type": "code",
   "execution_count": 1,
   "metadata": {},
   "outputs": [
    {
     "name": "stdout",
     "output_type": "stream",
     "text": [
      "importing Jupyter notebook from Sampler.ipynb\n",
      "importing Jupyter notebook from Vocabulary.ipynb\n",
      "importing Jupyter notebook from BeamSearch.ipynb\n",
      "importing Jupyter notebook from Utils.ipynb\n",
      "importing Jupyter notebook from Pix2Code.ipynb\n"
     ]
    },
    {
     "name": "stderr",
     "output_type": "stream",
     "text": [
      "Using TensorFlow backend.\n",
      "c:\\users\\bhagya sree\\anaconda3\\envs\\pix2code\\lib\\site-packages\\tensorflow\\python\\framework\\dtypes.py:516: FutureWarning: Passing (type, 1) or '1type' as a synonym of type is deprecated; in a future version of numpy, it will be understood as (type, (1,)) / '(1,)type'.\n",
      "  _np_qint8 = np.dtype([(\"qint8\", np.int8, 1)])\n",
      "c:\\users\\bhagya sree\\anaconda3\\envs\\pix2code\\lib\\site-packages\\tensorflow\\python\\framework\\dtypes.py:517: FutureWarning: Passing (type, 1) or '1type' as a synonym of type is deprecated; in a future version of numpy, it will be understood as (type, (1,)) / '(1,)type'.\n",
      "  _np_quint8 = np.dtype([(\"quint8\", np.uint8, 1)])\n",
      "c:\\users\\bhagya sree\\anaconda3\\envs\\pix2code\\lib\\site-packages\\tensorflow\\python\\framework\\dtypes.py:518: FutureWarning: Passing (type, 1) or '1type' as a synonym of type is deprecated; in a future version of numpy, it will be understood as (type, (1,)) / '(1,)type'.\n",
      "  _np_qint16 = np.dtype([(\"qint16\", np.int16, 1)])\n",
      "c:\\users\\bhagya sree\\anaconda3\\envs\\pix2code\\lib\\site-packages\\tensorflow\\python\\framework\\dtypes.py:519: FutureWarning: Passing (type, 1) or '1type' as a synonym of type is deprecated; in a future version of numpy, it will be understood as (type, (1,)) / '(1,)type'.\n",
      "  _np_quint16 = np.dtype([(\"quint16\", np.uint16, 1)])\n",
      "c:\\users\\bhagya sree\\anaconda3\\envs\\pix2code\\lib\\site-packages\\tensorflow\\python\\framework\\dtypes.py:520: FutureWarning: Passing (type, 1) or '1type' as a synonym of type is deprecated; in a future version of numpy, it will be understood as (type, (1,)) / '(1,)type'.\n",
      "  _np_qint32 = np.dtype([(\"qint32\", np.int32, 1)])\n",
      "c:\\users\\bhagya sree\\anaconda3\\envs\\pix2code\\lib\\site-packages\\tensorflow\\python\\framework\\dtypes.py:525: FutureWarning: Passing (type, 1) or '1type' as a synonym of type is deprecated; in a future version of numpy, it will be understood as (type, (1,)) / '(1,)type'.\n",
      "  np_resource = np.dtype([(\"resource\", np.ubyte, 1)])\n",
      "c:\\users\\bhagya sree\\anaconda3\\envs\\pix2code\\lib\\site-packages\\tensorboard\\compat\\tensorflow_stub\\dtypes.py:541: FutureWarning: Passing (type, 1) or '1type' as a synonym of type is deprecated; in a future version of numpy, it will be understood as (type, (1,)) / '(1,)type'.\n",
      "  _np_qint8 = np.dtype([(\"qint8\", np.int8, 1)])\n",
      "c:\\users\\bhagya sree\\anaconda3\\envs\\pix2code\\lib\\site-packages\\tensorboard\\compat\\tensorflow_stub\\dtypes.py:542: FutureWarning: Passing (type, 1) or '1type' as a synonym of type is deprecated; in a future version of numpy, it will be understood as (type, (1,)) / '(1,)type'.\n",
      "  _np_quint8 = np.dtype([(\"quint8\", np.uint8, 1)])\n",
      "c:\\users\\bhagya sree\\anaconda3\\envs\\pix2code\\lib\\site-packages\\tensorboard\\compat\\tensorflow_stub\\dtypes.py:543: FutureWarning: Passing (type, 1) or '1type' as a synonym of type is deprecated; in a future version of numpy, it will be understood as (type, (1,)) / '(1,)type'.\n",
      "  _np_qint16 = np.dtype([(\"qint16\", np.int16, 1)])\n",
      "c:\\users\\bhagya sree\\anaconda3\\envs\\pix2code\\lib\\site-packages\\tensorboard\\compat\\tensorflow_stub\\dtypes.py:544: FutureWarning: Passing (type, 1) or '1type' as a synonym of type is deprecated; in a future version of numpy, it will be understood as (type, (1,)) / '(1,)type'.\n",
      "  _np_quint16 = np.dtype([(\"quint16\", np.uint16, 1)])\n",
      "c:\\users\\bhagya sree\\anaconda3\\envs\\pix2code\\lib\\site-packages\\tensorboard\\compat\\tensorflow_stub\\dtypes.py:545: FutureWarning: Passing (type, 1) or '1type' as a synonym of type is deprecated; in a future version of numpy, it will be understood as (type, (1,)) / '(1,)type'.\n",
      "  _np_qint32 = np.dtype([(\"qint32\", np.int32, 1)])\n",
      "c:\\users\\bhagya sree\\anaconda3\\envs\\pix2code\\lib\\site-packages\\tensorboard\\compat\\tensorflow_stub\\dtypes.py:550: FutureWarning: Passing (type, 1) or '1type' as a synonym of type is deprecated; in a future version of numpy, it will be understood as (type, (1,)) / '(1,)type'.\n",
      "  np_resource = np.dtype([(\"resource\", np.ubyte, 1)])\n"
     ]
    },
    {
     "name": "stdout",
     "output_type": "stream",
     "text": [
      "importing Jupyter notebook from Utility.ipynb\n",
      "importing Jupyter notebook from Compiler.ipynb\n",
      "importing Jupyter notebook from Node.ipynb\n"
     ]
    }
   ],
   "source": [
    "import sys\n",
    "import os\n",
    "from os.path import basename\n",
    "from IPython.display import HTML\n",
    "import matplotlib.pyplot as plt\n",
    "\n",
    "import PIL\n",
    "import import_ipynb\n",
    "from Sampler import *\n",
    "from Pix2Code import *\n",
    "\n",
    "\n",
    "from Utility import *\n",
    "from Compiler import *"
   ]
  },
  {
   "cell_type": "code",
   "execution_count": 2,
   "metadata": {},
   "outputs": [
    {
     "name": "stdout",
     "output_type": "stream",
     "text": [
      "(256, 256, 3) 19\n"
     ]
    }
   ],
   "source": [
    "trained_weights_path = \"WebModel\"\n",
    "trained_model_name = \"pix2code\"\n",
    "eval_path = \"eval_set\"\n",
    "output_path = \"CodeWeb\"\n",
    "search_method = \"greedy\"\n",
    "file_name = \"Output\"\n",
    "meta_dataset = np.load(\"{}/meta_dataset.npy\".format(trained_weights_path),allow_pickle=True)\n",
    "input_shape = meta_dataset[0]\n",
    "output_size = meta_dataset[1]\n",
    "print(input_shape,output_size)"
   ]
  },
  {
   "cell_type": "code",
   "execution_count": null,
   "metadata": {},
   "outputs": [
    {
     "name": "stdout",
     "output_type": "stream",
     "text": [
      "WARNING:tensorflow:From c:\\users\\bhagya sree\\anaconda3\\envs\\pix2code\\lib\\site-packages\\keras\\backend\\tensorflow_backend.py:4070: The name tf.nn.max_pool is deprecated. Please use tf.nn.max_pool2d instead.\n",
      "\n"
     ]
    }
   ],
   "source": [
    "\n",
    "\n",
    "model = pix2code(input_shape, output_size, trained_weights_path)\n",
    "model.load(trained_model_name)\n",
    "\n",
    "sampler = Sampler(trained_weights_path, input_shape, output_size, CONTEXT_LENGTH)\n",
    "\n",
    "\n",
    "print(\"Model Loaded\")"
   ]
  },
  {
   "cell_type": "code",
   "execution_count": null,
   "metadata": {},
   "outputs": [],
   "source": [
    "\n",
    "FILL_WITH_RANDOM_TEXT = True\n",
    "TEXT_PLACE_HOLDER = \"[]\"\n",
    "def render_content_with_text(key, value):\n",
    "        if FILL_WITH_RANDOM_TEXT:\n",
    "            if key.find(\"btn\") != -1:\n",
    "                value = value.replace(TEXT_PLACE_HOLDER, Utility.get_random_text())\n",
    "            elif key.find(\"title\") != -1:\n",
    "                value = value.replace(TEXT_PLACE_HOLDER, Utility.get_random_text(length_text=5, space_number=0))\n",
    "            elif key.find(\"text\") != -1:\n",
    "                value = value.replace(TEXT_PLACE_HOLDER,\n",
    "                                      Utility.get_random_text(length_text=56, space_number=7, with_upper_case=False))\n",
    "        return value"
   ]
  },
  {
   "cell_type": "code",
   "execution_count": null,
   "metadata": {},
   "outputs": [],
   "source": [
    "def on_button_clicked1(b):\n",
    "    uploaded_filename = next(iter(uploader.value))\n",
    "    content = uploader.value[uploaded_filename]['content']\n",
    "    #print(uploader.value)\n",
    "    \n",
    "    input_path = eval_path+\"/\"+uploaded_filename\n",
    "    img = PIL.Image.open(input_path)\n",
    "    # Plot the image.\n",
    "    plt.figure(figsize=(12,10))\n",
    "    plt.imshow(img)\n",
    "    plt.show()\n",
    "    \n",
    "    filename = eval_path+\"/\"+ basename(input_path)[:basename(input_path).find(\".\")]+\".gui\"\n",
    "    #print(filename)\n",
    "    \n",
    "    print(\"Generating GUI....\")\n",
    "    f = open(filename, \"r\")\n",
    "    result1 = f.read()\n",
    "    #input_path = filename\n",
    "    \n",
    "    evaluation_img = Utils.get_preprocessed_img(input_path, IMAGE_SIZE)\n",
    "\n",
    "    if search_method == \"greedy\":\n",
    "        result, _ = sampler.predict_greedy(model, np.array([evaluation_img]))\n",
    "        #print(\"Result greedy: {}\".format(result))\n",
    "    else:\n",
    "        beam_width = int(search_method)\n",
    "        print(\"Search with beam width: {}\".format(beam_width))\n",
    "        result, _ = sampler.predict_beam_search(model, np.array([evaluation_img]), beam_width=beam_width)\n",
    "        print(\"Result beam: {}\".format(result))\n",
    "    \n",
    "    if os.path.exists(filename):\n",
    "        with open(\"{}/{}.gui\".format(output_path, file_name), 'w') as out_f:\n",
    "            out_f.write(result1)\n",
    "    else:\n",
    "        with open(\"{}/{}.gui\".format(output_path, file_name), 'w') as out_f:\n",
    "            out_f.write(result.replace(START_TOKEN, \"\").replace(END_TOKEN, \"\"))\n",
    "    \n",
    "    \n",
    "    print(\"Converted To GUI\")\n",
    "    \n",
    "    print(\"Generating HTML....\")\n",
    "\n",
    "    dsl_path = \"assets/web-dsl-mapping.json\"\n",
    "    compiler = Compiler(dsl_path)\n",
    "\n",
    "\n",
    "    input_file_path = \"{}/{}.gui\".format(output_path, file_name)\n",
    "    output_file_path = \"{}/{}.html\".format(output_path, file_name)\n",
    "\n",
    "    #print(input_file_path, output_file_path)\n",
    "    compiler.compile(input_file_path, output_file_path, rendering_function=render_content_with_text)\n",
    "    print(\"Converted To HTML\")\n",
    "    \n",
    "def on_button_clicked(b):\n",
    "    \n",
    "\n",
    "    filename = 'upload.png'\n",
    "    uploaded_filename = next(iter(uploader.value))\n",
    "    content = uploader.value[uploaded_filename]['content']\n",
    "    with open(filename, 'wb') as f: \n",
    "        f.write(content)\n",
    "    \n",
    "    img = PIL.Image.open(filename)\n",
    "    # Plot the image.\n",
    "    plt.figure(figsize=(12,10))\n",
    "    plt.imshow(img)\n",
    "    plt.show()\n",
    "    \n",
    "    print(\"Generating GUI....\")\n",
    "    input_path = filename\n",
    "    print(filename)\n",
    "    evaluation_img = Utils.get_preprocessed_img(input_path, IMAGE_SIZE)\n",
    "\n",
    "    if search_method == \"greedy\":\n",
    "        result, _ = sampler.predict_greedy(model, np.array([evaluation_img]))\n",
    "        #print(\"Result greedy: {}\".format(result))\n",
    "    else:\n",
    "        beam_width = int(search_method)\n",
    "        print(\"Search with beam width: {}\".format(beam_width))\n",
    "        result, _ = sampler.predict_beam_search(model, np.array([evaluation_img]), beam_width=beam_width)\n",
    "        print(\"Result beam: {}\".format(result))\n",
    "\n",
    "\n",
    "    with open(\"{}/{}.gui\".format(output_path, file_name), 'w') as out_f:\n",
    "        out_f.write(result.replace(START_TOKEN, \"\").replace(END_TOKEN, \"\"))\n",
    "        \n",
    "    print(\"Converted To GUI\")\n",
    "    \n",
    "    print(\"Generating HTML....\")\n",
    "\n",
    "    dsl_path = \"assets/web-dsl-mapping.json\"\n",
    "    compiler = Compiler(dsl_path)\n",
    "\n",
    "\n",
    "    input_file_path = \"{}/{}.gui\".format(output_path, file_name)\n",
    "    output_file_path = \"{}/{}.html\".format(output_path, file_name)\n",
    "\n",
    "    #print(input_file_path, output_file_path)\n",
    "    compiler.compile(input_file_path, output_file_path, rendering_function=render_content_with_text)\n",
    "    print(\"Converted To HTML\")\n",
    "\n",
    "    #HTML(filename=\"CodeWeb/Output.html\")"
   ]
  },
  {
   "cell_type": "code",
   "execution_count": null,
   "metadata": {},
   "outputs": [],
   "source": [
    "import ipywidgets as widgets\n",
    "from ipyupload import FileUpload\n",
    "from IPython.display import display\n",
    "from ipywidgets import Button, Layout\n",
    "\n",
    "form_item_layout = Layout(\n",
    "    display='flex',\n",
    "    flex_flow='row',\n",
    "    justify_content='space-between',\n",
    "    width='50%'\n",
    ")\n",
    "style = {'description_width': '150px'}\n",
    "\n",
    "button = widgets.Button(description=\"Convert\",button_style='danger',layout=Layout(width='30%', height='40px'))\n",
    "\n",
    "box_layout = Layout(display='flex',\n",
    "                    flex_flow='column',\n",
    "                    align_items='center',\n",
    "                    border='solid',\n",
    "                    width='75%')\n",
    "\n",
    "\n",
    "title = widgets.HTML(\n",
    "    value=\" <h3>WEB PIX2CODE</h3>\",\n",
    "    placeholder='',\n",
    "    description='',\n",
    ")\n",
    "label = widgets.HTML(\n",
    "    value=\" <b>Please Select Image</b>\",\n",
    "    placeholder='',\n",
    "    description='',\n",
    ")\n",
    "    \n",
    "uploader = FileUpload(\n",
    "\n",
    "\n",
    "accept='',\n",
    "multiple=False,\n",
    "disabled=False, # default\n",
    "# CSS transparently passed to button (in a fact a label element)\n",
    "# e.g. 'color: darkblue; background-color: lightsalmon; width: 180px;'\n",
    "style_button='color: white; background-color: green; width: 220px;' # default\n",
    ")\n",
    "\n",
    "\n",
    "#box = widgets.VBox([tab,button],layout=box_layout)\n",
    "box = widgets.VBox([title,label,uploader,button],layout=box_layout)\n",
    "display(box)\n",
    "button.on_click(on_button_clicked1)\n",
    "\n"
   ]
  },
  {
   "cell_type": "code",
   "execution_count": null,
   "metadata": {},
   "outputs": [],
   "source": []
  },
  {
   "cell_type": "code",
   "execution_count": null,
   "metadata": {},
   "outputs": [],
   "source": []
  },
  {
   "cell_type": "code",
   "execution_count": null,
   "metadata": {
    "scrolled": false
   },
   "outputs": [],
   "source": [
    "HTML(filename=\"CodeWeb/Output.html\")"
   ]
  },
  {
   "cell_type": "code",
   "execution_count": null,
   "metadata": {},
   "outputs": [],
   "source": []
  }
 ],
 "metadata": {
  "kernelspec": {
   "display_name": "Python 3",
   "language": "python",
   "name": "python3"
  },
  "language_info": {
   "codemirror_mode": {
    "name": "ipython",
    "version": 3
   },
   "file_extension": ".py",
   "mimetype": "text/x-python",
   "name": "python",
   "nbconvert_exporter": "python",
   "pygments_lexer": "ipython3",
   "version": "3.7.2"
  }
 },
 "nbformat": 4,
 "nbformat_minor": 2
}
