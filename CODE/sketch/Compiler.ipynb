{
 "cells": [
  {
   "cell_type": "code",
   "execution_count": 1,
   "metadata": {},
   "outputs": [
    {
     "name": "stdout",
     "output_type": "stream",
     "text": [
      "importing Jupyter notebook from Node.ipynb\n",
      "importing Jupyter notebook from SamplerUtils.ipynb\n"
     ]
    }
   ],
   "source": [
    "import os\n",
    "import json\n",
    "import import_ipynb\n",
    "from Node import *\n",
    "\n",
    "BASE_DIR_NAME = \"styles\"\n",
    "DEFAULT_DSL_MAPPING_FILEPATH = \"{}/default-dsl-mapping.json\".format(BASE_DIR_NAME)\n",
    "FACEBOOK_DSL_MAPPING_FILEPATH = \"{}/facebook_dsl_mapping.json\".format(BASE_DIR_NAME)\n",
    "AIRBNB_DSL_MAPPING_FILEPATH = \"{}/airbnb_dsl_mapping.json\".format(BASE_DIR_NAME)"
   ]
  },
  {
   "cell_type": "code",
   "execution_count": 2,
   "metadata": {},
   "outputs": [],
   "source": [
    "class Compiler:\n",
    "    def __init__(self, style):\n",
    "        style_json = self.get_stylesheet(style)\n",
    "        with open(style_json) as data_file:\n",
    "            self.dsl_mapping = json.load(data_file)\n",
    "\n",
    "        self.opening_tag = self.dsl_mapping[\"opening-tag\"]\n",
    "        self.closing_tag = self.dsl_mapping[\"closing-tag\"]\n",
    "        self.content_holder = self.opening_tag + self.closing_tag\n",
    "\n",
    "        self.root = Node(\"body\", None, self.content_holder)\n",
    "\n",
    "    def get_stylesheet(self, style):\n",
    "        if style == 'default':\n",
    "            return DEFAULT_DSL_MAPPING_FILEPATH\n",
    "        elif style == 'facebook':\n",
    "            return FACEBOOK_DSL_MAPPING_FILEPATH\n",
    "        elif style == 'airbnb':\n",
    "            return AIRBNB_DSL_MAPPING_FILEPATH\n",
    "\n",
    "    def compile(self, generated_gui):\n",
    "        dsl_file = generated_gui\n",
    "\n",
    "        #Parse fix\n",
    "        dsl_file = dsl_file[1:-1]\n",
    "        dsl_file = ' '.join(dsl_file)\n",
    "        dsl_file = dsl_file.replace('{', '{8').replace('}', '8}8')\n",
    "        dsl_file = dsl_file.replace(' ', '')\n",
    "        dsl_file = dsl_file.split('8')\n",
    "        dsl_file = list(filter(None, dsl_file))\n",
    "\n",
    "        current_parent = self.root\n",
    "        for token in dsl_file:\n",
    "            token = token.replace(\" \", \"\").replace(\"\\n\", \"\")\n",
    "\n",
    "            if token.find(self.opening_tag) != -1:\n",
    "                token = token.replace(self.opening_tag, \"\")\n",
    "                element = Node(token, current_parent, self.content_holder)\n",
    "                current_parent.add_child(element)\n",
    "                current_parent = element\n",
    "            elif token.find(self.closing_tag) != -1:\n",
    "                current_parent = current_parent.parent\n",
    "            else:\n",
    "                tokens = token.split(\",\")\n",
    "                for t in tokens:\n",
    "                    element = Node(t, current_parent, self.content_holder)\n",
    "                    current_parent.add_child(element)\n",
    "\n",
    "        output_html = self.root.render(self.dsl_mapping)\n",
    "        if output_html is None: return \"HTML Parsing Error\"\n",
    "\n",
    "        return output_html"
   ]
  },
  {
   "cell_type": "code",
   "execution_count": null,
   "metadata": {},
   "outputs": [],
   "source": []
  }
 ],
 "metadata": {
  "kernelspec": {
   "display_name": "Python 3",
   "language": "python",
   "name": "python3"
  },
  "language_info": {
   "codemirror_mode": {
    "name": "ipython",
    "version": 3
   },
   "file_extension": ".py",
   "mimetype": "text/x-python",
   "name": "python",
   "nbconvert_exporter": "python",
   "pygments_lexer": "ipython3",
   "version": "3.7.2"
  }
 },
 "nbformat": 4,
 "nbformat_minor": 2
}
