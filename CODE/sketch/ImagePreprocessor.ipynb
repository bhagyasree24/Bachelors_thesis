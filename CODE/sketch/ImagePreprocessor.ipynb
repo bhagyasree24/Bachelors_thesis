{
 "cells": [
  {
   "cell_type": "code",
   "execution_count": 1,
   "metadata": {},
   "outputs": [
    {
     "name": "stderr",
     "output_type": "stream",
     "text": [
      "Using TensorFlow backend.\n"
     ]
    }
   ],
   "source": [
    "import os\n",
    "import sys\n",
    "import shutil\n",
    "\n",
    "import numpy as np\n",
    "from PIL import Image\n",
    "import cv2\n",
    "from keras.preprocessing.image import ImageDataGenerator"
   ]
  },
  {
   "cell_type": "code",
   "execution_count": 2,
   "metadata": {},
   "outputs": [],
   "source": [
    "class ImagePreprocessor:\n",
    "\n",
    "    def __init__(self):\n",
    "        pass\n",
    "\n",
    "    def build_image_dataset(self, data_input_folder, augment_data=True):\n",
    "\n",
    "        print(\"Converting images from {} into arrays, augmentation: {}\".format(data_input_folder, augment_data))\n",
    "        resized_img_arrays, sample_ids = self.get_resized_images(data_input_folder)\n",
    "\n",
    "        if augment_data == 1:\n",
    "            self.augment_and_save_images(resized_img_arrays, sample_ids, data_input_folder)\n",
    "        else:\n",
    "            self.save_resized_img_arrays(resized_img_arrays, sample_ids, data_input_folder)\n",
    "\n",
    "    def get_img_features(self, png_path):\n",
    "        img_features = self.resize_img(png_path)\n",
    "        assert(img_features.shape == (256,256,3))\n",
    "        return img_features\n",
    "\n",
    "\n",
    "   ##########################################\n",
    "   ####### PRIVATE METHODS ##################\n",
    "   ##########################################\n",
    "\n",
    "\n",
    "\n",
    "    def save_resized_img_arrays(self, resized_img_arrays, sample_ids, output_folder):\n",
    "        count = 0\n",
    "        for img_arr, sample_id in zip(resized_img_arrays, sample_ids):\n",
    "            npz_filename = \"{}/{}.npz\".format(output_folder, sample_id)\n",
    "            np.savez_compressed(npz_filename, features=img_arr)\n",
    "            retrieve = np.load(npz_filename)[\"features\"]\n",
    "            assert np.array_equal(img_arr, retrieve)\n",
    "            count += 1\n",
    "        print(\"Saved down {} resized images to folder {}\".format(count, output_folder))\n",
    "        del resized_img_arrays\n",
    "\n",
    "    def augment_and_save_images(self, resized_img_arrays, sample_ids, data_input_folder):\n",
    "        datagen = ImageDataGenerator(\n",
    "                                 rotation_range=2,\n",
    "                                 width_shift_range=0.05,\n",
    "                                 height_shift_range=0.05,\n",
    "                                 zoom_range=0.05\n",
    "                                )\n",
    "        keras_generator = datagen.flow(resized_img_arrays,sample_ids,batch_size=1)\n",
    "        count = 0\n",
    "        for i in range(len(resized_img_arrays)):\n",
    "            img_arr, sample_id = next(keras_generator)\n",
    "            img_arr = np.squeeze(img_arr)\n",
    "            npz_filename = \"{}/{}.npz\".format(data_input_folder, sample_id[0])\n",
    "            im = Image.fromarray(img_arr.astype('uint8'))\n",
    "            np.savez_compressed(npz_filename, features=img_arr)\n",
    "            retrieve = np.load(npz_filename)[\"features\"]\n",
    "            assert np.array_equal(img_arr, retrieve)\n",
    "            count += 1\n",
    "        print(\"Saved down {} augmented images to folder {}\".format(count, data_input_folder))\n",
    "        del resized_img_arrays\n",
    "\n",
    "    def get_resized_images(self, pngs_input_folder):\n",
    "        all_files = os.listdir(pngs_input_folder)\n",
    "        png_files = [f for f in all_files if f.find(\".png\") != -1]\n",
    "        images = []\n",
    "        labels = []\n",
    "        for png_file_path in png_files:\n",
    "            png_path = \"{}/{}\".format(pngs_input_folder, png_file_path)\n",
    "            sample_id = png_file_path[:png_file_path.find('.png')]\n",
    "            resized_img_arr = self.resize_img(png_path)\n",
    "            images.append(resized_img_arr)\n",
    "            labels.append(sample_id)\n",
    "        return np.array(images), np.array(labels)\n",
    "\n",
    "    def resize_img(self, png_file_path):\n",
    "        img_rgb = cv2.imread(png_file_path)\n",
    "        img_grey = cv2.cvtColor(img_rgb, cv2.COLOR_BGR2GRAY)\n",
    "        img_adapted = cv2.adaptiveThreshold(img_grey, 255, cv2.ADAPTIVE_THRESH_MEAN_C,cv2.THRESH_BINARY, 101, 9)\n",
    "        img_stacked = np.repeat(img_adapted[...,None],3,axis=2)\n",
    "        resized = cv2.resize(img_stacked, (200,200), interpolation=cv2.INTER_AREA)\n",
    "        bg_img = 255 * np.ones(shape=(256,256,3))\n",
    "        bg_img[27:227, 27:227,:] = resized\n",
    "        bg_img /= 255\n",
    "        return bg_img\n"
   ]
  },
  {
   "cell_type": "code",
   "execution_count": null,
   "metadata": {},
   "outputs": [],
   "source": []
  }
 ],
 "metadata": {
  "kernelspec": {
   "display_name": "Python 3",
   "language": "python",
   "name": "python3"
  },
  "language_info": {
   "codemirror_mode": {
    "name": "ipython",
    "version": 3
   },
   "file_extension": ".py",
   "mimetype": "text/x-python",
   "name": "python",
   "nbconvert_exporter": "python",
   "pygments_lexer": "ipython3",
   "version": "3.7.2"
  }
 },
 "nbformat": 4,
 "nbformat_minor": 2
}
