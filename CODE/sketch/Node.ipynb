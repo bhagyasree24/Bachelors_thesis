{
 "cells": [
  {
   "cell_type": "code",
   "execution_count": 2,
   "metadata": {},
   "outputs": [
    {
     "name": "stdout",
     "output_type": "stream",
     "text": [
      "importing Jupyter notebook from SamplerUtils.ipynb\n"
     ]
    }
   ],
   "source": [
    "import import_ipynb\n",
    "from SamplerUtils import *\n",
    "\n",
    "TEXT_PLACE_HOLDER = \"[]\"\n",
    "\n",
    "class Node:\n",
    "\n",
    "    def __init__(self, key, parent_node, content_holder):\n",
    "        self.key = key\n",
    "        self.parent = parent_node\n",
    "        self.children = []\n",
    "        self.content_holder = content_holder\n",
    "\n",
    "    def add_child(self, child):\n",
    "        self.children.append(child)\n",
    "\n",
    "    def show(self):\n",
    "        for child in self.children:\n",
    "            child.show()\n",
    "\n",
    "    def rendering_function(self, key, value):\n",
    "        if key.find(\"btn\") != -1:\n",
    "            value = value.replace(TEXT_PLACE_HOLDER, SamplerUtils.get_random_text())\n",
    "        elif key.find(\"title\") != -1:\n",
    "            value = value.replace(TEXT_PLACE_HOLDER, SamplerUtils.get_random_text(length_text=5, space_number=0))\n",
    "        elif key.find(\"text\") != -1:\n",
    "            value = value.replace(TEXT_PLACE_HOLDER,\n",
    "                                  SamplerUtils.get_random_text(length_text=56, space_number=7, with_upper_case=False))\n",
    "        return value\n",
    "\n",
    "    def render(self, mapping, rendering_function=None):\n",
    "        content = \"\"\n",
    "        for child in self.children:\n",
    "            placeholder = child.render(mapping, self.rendering_function)\n",
    "            if placeholder is None:\n",
    "                self = None\n",
    "                return\n",
    "            else:\n",
    "                content += placeholder\n",
    "\n",
    "        value = mapping.get(self.key, None)\n",
    "\n",
    "        if value is None:\n",
    "            self = None\n",
    "            return None\n",
    "\n",
    "        if rendering_function is not None:\n",
    "            value = self.rendering_function(self.key, value)\n",
    "\n",
    "        if len(self.children) != 0:\n",
    "            value = value.replace(self.content_holder, content)\n",
    "\n",
    "        return value"
   ]
  },
  {
   "cell_type": "code",
   "execution_count": null,
   "metadata": {},
   "outputs": [],
   "source": []
  }
 ],
 "metadata": {
  "kernelspec": {
   "display_name": "Python 3",
   "language": "python",
   "name": "python3"
  },
  "language_info": {
   "codemirror_mode": {
    "name": "ipython",
    "version": 3
   },
   "file_extension": ".py",
   "mimetype": "text/x-python",
   "name": "python",
   "nbconvert_exporter": "python",
   "pygments_lexer": "ipython3",
   "version": "3.7.2"
  }
 },
 "nbformat": 4,
 "nbformat_minor": 2
}
