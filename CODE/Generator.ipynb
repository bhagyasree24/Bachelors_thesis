{
 "cells": [
  {
   "cell_type": "code",
   "execution_count": 1,
   "metadata": {
    "colab": {
     "base_uri": "https://localhost:8080/",
     "height": 34
    },
    "colab_type": "code",
    "executionInfo": {
     "elapsed": 10020,
     "status": "ok",
     "timestamp": 1584254486954,
     "user": {
      "displayName": "Sahaj d",
      "photoUrl": "",
      "userId": "13950582096679244504"
     },
     "user_tz": -330
    },
    "id": "016pbBQE4b_v",
    "outputId": "a432573c-47a1-45ee-dac0-bedb40e06ac8"
   },
   "outputs": [
    {
     "name": "stdout",
     "output_type": "stream",
     "text": [
      "importing Jupyter notebook from Vocabulary.ipynb\n",
      "importing Jupyter notebook from Dataset.ipynb\n"
     ]
    }
   ],
   "source": [
    "import import_ipynb\n",
    "from Vocabulary import *\n",
    "from Dataset import *"
   ]
  },
  {
   "cell_type": "code",
   "execution_count": 2,
   "metadata": {
    "colab": {},
    "colab_type": "code",
    "id": "R7OE9vAG4b_2"
   },
   "outputs": [],
   "source": [
    "CONTEXT_LENGTH = 48\n",
    "IMAGE_SIZE = 256\n",
    "BATCH_SIZE = 64\n",
    "EPOCHS = 10\n",
    "STEPS_PER_EPOCH = 72000\n",
    "\n",
    "def get_preprocessed_img(img_path, image_size):\n",
    "    img = cv2.imread(img_path)\n",
    "    img = cv2.resize(img, (image_size, image_size))\n",
    "    img = img.astype('float32')\n",
    "    img /= 255\n",
    "    return img"
   ]
  },
  {
   "cell_type": "code",
   "execution_count": 3,
   "metadata": {
    "colab": {},
    "colab_type": "code",
    "id": "_Onv998Z4b_8"
   },
   "outputs": [],
   "source": [
    "class Generator:\n",
    "    @staticmethod\n",
    "    def data_generator(voc, gui_paths, img_paths, batch_size, generate_binary_sequences=False, verbose=False, loop_only_one=False):\n",
    "        assert len(gui_paths) == len(img_paths)\n",
    "        voc.create_binary_representation()\n",
    "\n",
    "        while 1:\n",
    "            batch_input_images = []\n",
    "            batch_partial_sequences = []\n",
    "            batch_next_words = []\n",
    "            sample_in_batch_counter = 0\n",
    "\n",
    "            for i in range(0, len(gui_paths)):\n",
    "                if img_paths[i].find(\".png\") != -1:\n",
    "                    img = get_preprocessed_img(img_paths[i], IMAGE_SIZE)\n",
    "                else:\n",
    "                    img = np.load(img_paths[i])[\"features\"]\n",
    "                gui = open(gui_paths[i], 'r')\n",
    "\n",
    "                token_sequence = [START_TOKEN]\n",
    "                for line in gui:\n",
    "                    line = line.replace(\",\", \" ,\").replace(\"\\n\", \" \\n\")\n",
    "                    tokens = line.split(\" \")\n",
    "                    for token in tokens:\n",
    "                        voc.append(token)\n",
    "                        token_sequence.append(token)\n",
    "                token_sequence.append(END_TOKEN)\n",
    "\n",
    "                suffix = [PLACEHOLDER] * CONTEXT_LENGTH\n",
    "\n",
    "                a = np.concatenate([suffix, token_sequence])\n",
    "                for j in range(0, len(a) - CONTEXT_LENGTH):\n",
    "                    context = a[j:j + CONTEXT_LENGTH]\n",
    "                    label = a[j + CONTEXT_LENGTH]\n",
    "\n",
    "                    batch_input_images.append(img)\n",
    "                    batch_partial_sequences.append(context)\n",
    "                    batch_next_words.append(label)\n",
    "                    sample_in_batch_counter += 1\n",
    "\n",
    "                    if sample_in_batch_counter == batch_size or (loop_only_one and i == len(gui_paths) - 1):\n",
    "                        if verbose:\n",
    "                            print(\"Generating sparse vectors...\")\n",
    "                        batch_next_words = Dataset.sparsify_labels(batch_next_words, voc)\n",
    "                        if generate_binary_sequences:\n",
    "                            batch_partial_sequences = Dataset.binarize(batch_partial_sequences, voc)\n",
    "                        else:\n",
    "                            batch_partial_sequences = Dataset.indexify(batch_partial_sequences, voc)\n",
    "\n",
    "                        if verbose:\n",
    "                            print(\"Convert arrays...\")\n",
    "                        batch_input_images = np.array(batch_input_images)\n",
    "                        batch_partial_sequences = np.array(batch_partial_sequences)\n",
    "                        batch_next_words = np.array(batch_next_words)\n",
    "\n",
    "                        if verbose:\n",
    "                            print(\"Yield batch\")\n",
    "                        yield ([batch_input_images, batch_partial_sequences], batch_next_words)\n",
    "\n",
    "                        batch_input_images = []\n",
    "                        batch_partial_sequences = []\n",
    "                        batch_next_words = []\n",
    "                        sample_in_batch_counter = 0"
   ]
  },
  {
   "cell_type": "code",
   "execution_count": null,
   "metadata": {
    "colab": {},
    "colab_type": "code",
    "id": "sEO134z24cAD"
   },
   "outputs": [],
   "source": []
  }
 ],
 "metadata": {
  "colab": {
   "name": "Generator.ipynb",
   "provenance": []
  },
  "kernelspec": {
   "display_name": "Python 3",
   "language": "python",
   "name": "python3"
  },
  "language_info": {
   "codemirror_mode": {
    "name": "ipython",
    "version": 3
   },
   "file_extension": ".py",
   "mimetype": "text/x-python",
   "name": "python",
   "nbconvert_exporter": "python",
   "pygments_lexer": "ipython3",
   "version": "3.7.2"
  }
 },
 "nbformat": 4,
 "nbformat_minor": 1
}
