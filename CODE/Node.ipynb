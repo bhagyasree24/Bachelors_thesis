{
 "cells": [
  {
   "cell_type": "code",
   "execution_count": 1,
   "metadata": {},
   "outputs": [],
   "source": [
    "class Node:\n",
    "    def __init__(self, key, parent_node, content_holder):\n",
    "        self.key = key\n",
    "        self.parent = parent_node\n",
    "        self.children = []\n",
    "        self.content_holder = content_holder\n",
    "\n",
    "    def add_child(self, child):\n",
    "        self.children.append(child)\n",
    "\n",
    "    def show(self):\n",
    "        print(self.key)\n",
    "        for child in self.children:\n",
    "            child.show()\n",
    "\n",
    "    def render(self, mapping, rendering_function=None):\n",
    "        content = \"\"\n",
    "        for child in self.children:\n",
    "            content += child.render(mapping, rendering_function)\n",
    "\n",
    "        value = mapping[self.key]\n",
    "        if rendering_function is not None:\n",
    "            value = rendering_function(self.key, value)\n",
    "\n",
    "        if len(self.children) != 0:\n",
    "            value = value.replace(self.content_holder, content)\n",
    "\n",
    "        return value"
   ]
  },
  {
   "cell_type": "code",
   "execution_count": null,
   "metadata": {},
   "outputs": [],
   "source": []
  }
 ],
 "metadata": {
  "kernelspec": {
   "display_name": "Python 3",
   "language": "python",
   "name": "python3"
  },
  "language_info": {
   "codemirror_mode": {
    "name": "ipython",
    "version": 3
   },
   "file_extension": ".py",
   "mimetype": "text/x-python",
   "name": "python",
   "nbconvert_exporter": "python",
   "pygments_lexer": "ipython3",
   "version": "3.7.2"
  }
 },
 "nbformat": 4,
 "nbformat_minor": 2
}
