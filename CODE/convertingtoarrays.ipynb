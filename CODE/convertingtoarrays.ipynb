{
 "cells": [
  {
   "cell_type": "code",
   "execution_count": null,
   "metadata": {},
   "outputs": [],
   "source": [
    "import os\n",
    "import sys\n",
    "import shutil\n",
    "import cv2\n",
    "import numpy as np"
   ]
  },
  {
   "cell_type": "code",
   "execution_count": 2,
   "metadata": {},
   "outputs": [],
   "source": [
    "IMAGE_SIZE = 256\n",
    "def get_preprocessed_img(img_path, image_size):\n",
    "    img = cv2.imread(img_path)\n",
    "    img = cv2.resize(img, (image_size, image_size))\n",
    "    img = img.astype('float32')\n",
    "    img /= 255\n",
    "    return img"
   ]
  },
  {
   "cell_type": "code",
   "execution_count": 3,
   "metadata": {},
   "outputs": [
    {
     "name": "stdout",
     "output_type": "stream",
     "text": [
      "Converting images to numpy arrays...\n",
      "Numpy arrays saved in datasets/web/training_features\n"
     ]
    }
   ],
   "source": [
    "input_path = \"datasets/web/training_set\"\n",
    "output_path = \"datasets/web/training_features\"\n",
    "\n",
    "if not os.path.exists(output_path):\n",
    "    os.makedirs(output_path)\n",
    "\n",
    "print(\"Converting images to numpy arrays...\")\n",
    "\n",
    "for f in os.listdir(input_path):\n",
    "    if f.find(\".png\") != -1:\n",
    "        img = get_preprocessed_img(\"{}/{}\".format(input_path, f), IMAGE_SIZE)\n",
    "        file_name = f[:f.find(\".png\")]\n",
    "\n",
    "        np.savez_compressed(\"{}/{}\".format(output_path, file_name), features=img)\n",
    "        retrieve = np.load(\"{}/{}.npz\".format(output_path, file_name))[\"features\"]\n",
    "\n",
    "        assert np.array_equal(img, retrieve)\n",
    "\n",
    "        shutil.copyfile(\"{}/{}.gui\".format(input_path, file_name), \"{}/{}.gui\".format(output_path, file_name))\n",
    "\n",
    "print(\"Numpy arrays saved in {}\".format(output_path))"
   ]
  },
  {
   "cell_type": "code",
   "execution_count": 4,
   "metadata": {},
   "outputs": [
    {
     "name": "stdout",
     "output_type": "stream",
     "text": [
      "Converting images to numpy arrays...\n",
      "Numpy arrays saved in datasets/android/training_features\n"
     ]
    }
   ],
   "source": [
    "input_path = \"datasets/android/training_set\"\n",
    "output_path = \"datasets/android/training_features\"\n",
    "\n",
    "if not os.path.exists(output_path):\n",
    "    os.makedirs(output_path)\n",
    "\n",
    "print(\"Converting images to numpy arrays...\")\n",
    "\n",
    "for f in os.listdir(input_path):\n",
    "    if f.find(\".png\") != -1:\n",
    "        img = get_preprocessed_img(\"{}/{}\".format(input_path, f), IMAGE_SIZE)\n",
    "        file_name = f[:f.find(\".png\")]\n",
    "\n",
    "        np.savez_compressed(\"{}/{}\".format(output_path, file_name), features=img)\n",
    "        retrieve = np.load(\"{}/{}.npz\".format(output_path, file_name))[\"features\"]\n",
    "\n",
    "        assert np.array_equal(img, retrieve)\n",
    "\n",
    "        shutil.copyfile(\"{}/{}.gui\".format(input_path, file_name), \"{}/{}.gui\".format(output_path, file_name))\n",
    "\n",
    "print(\"Numpy arrays saved in {}\".format(output_path))"
   ]
  },
  {
   "cell_type": "code",
   "execution_count": null,
   "metadata": {},
   "outputs": [],
   "source": []
  }
 ],
 "metadata": {
  "kernelspec": {
   "display_name": "Python 3",
   "language": "python",
   "name": "python3"
  },
  "language_info": {
   "codemirror_mode": {
    "name": "ipython",
    "version": 3
   },
   "file_extension": ".py",
   "mimetype": "text/x-python",
   "name": "python",
   "nbconvert_exporter": "python",
   "pygments_lexer": "ipython3",
   "version": "3.7.2"
  }
 },
 "nbformat": 4,
 "nbformat_minor": 2
}
