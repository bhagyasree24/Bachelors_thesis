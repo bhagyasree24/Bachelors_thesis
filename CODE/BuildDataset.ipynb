{
 "cells": [
  {
   "cell_type": "code",
   "execution_count": 1,
   "metadata": {},
   "outputs": [],
   "source": [
    "import glob\n",
    "import os\n",
    "import pandas as pd\n",
    "import matplotlib.pyplot as plt\n",
    "import seaborn as sns\n",
    "import numpy as np\n",
    "import sys\n",
    "import hashlib\n",
    "import shutil\n",
    "import cv2"
   ]
  },
  {
   "cell_type": "code",
   "execution_count": 2,
   "metadata": {},
   "outputs": [
    {
     "name": "stdout",
     "output_type": "stream",
     "text": [
      "Dataset Read Complete\n"
     ]
    }
   ],
   "source": [
    "classes = ['web','android']\n",
    "dataset_path = \"datasets/\"\n",
    "data = []\n",
    "for cls in classes:\n",
    "    input_path = dataset_path+cls+\"/all_data\"\n",
    "    for f in os.listdir(input_path):\n",
    "        if f.find(\".gui\") != -1:\n",
    "            path_gui = \"{}/{}\".format(input_path, f)\n",
    "            file_name = f[:f.find(\".gui\")]\n",
    "\n",
    "            if os.path.isfile(\"{}/{}.png\".format(input_path, file_name)):\n",
    "                path_img = \"{}/{}.png\".format(input_path, file_name)\n",
    "                data.append([file_name,cls])\n",
    "print(\"Dataset Read Complete\")"
   ]
  },
  {
   "cell_type": "code",
   "execution_count": 3,
   "metadata": {},
   "outputs": [
    {
     "data": {
      "text/html": [
       "<div>\n",
       "<style scoped>\n",
       "    .dataframe tbody tr th:only-of-type {\n",
       "        vertical-align: middle;\n",
       "    }\n",
       "\n",
       "    .dataframe tbody tr th {\n",
       "        vertical-align: top;\n",
       "    }\n",
       "\n",
       "    .dataframe thead th {\n",
       "        text-align: right;\n",
       "    }\n",
       "</style>\n",
       "<table border=\"1\" class=\"dataframe\">\n",
       "  <thead>\n",
       "    <tr style=\"text-align: right;\">\n",
       "      <th></th>\n",
       "      <th>Filename</th>\n",
       "      <th>Class</th>\n",
       "    </tr>\n",
       "  </thead>\n",
       "  <tbody>\n",
       "    <tr>\n",
       "      <th>0</th>\n",
       "      <td>00150311-A7AE-4804-8B7D-9273687B4FC0</td>\n",
       "      <td>web</td>\n",
       "    </tr>\n",
       "    <tr>\n",
       "      <th>1</th>\n",
       "      <td>00190F39-0DE9-47EB-B0C2-856FDD3ACE62</td>\n",
       "      <td>web</td>\n",
       "    </tr>\n",
       "    <tr>\n",
       "      <th>2</th>\n",
       "      <td>00779BBE-DD64-4909-9909-24F5C8044A7B</td>\n",
       "      <td>web</td>\n",
       "    </tr>\n",
       "    <tr>\n",
       "      <th>3</th>\n",
       "      <td>00CDC9A8-3D73-4291-90EF-49178E408797</td>\n",
       "      <td>web</td>\n",
       "    </tr>\n",
       "    <tr>\n",
       "      <th>4</th>\n",
       "      <td>00E15BB2-5568-4466-BA18-A8A8D34FC61C</td>\n",
       "      <td>web</td>\n",
       "    </tr>\n",
       "  </tbody>\n",
       "</table>\n",
       "</div>"
      ],
      "text/plain": [
       "                               Filename Class\n",
       "0  00150311-A7AE-4804-8B7D-9273687B4FC0   web\n",
       "1  00190F39-0DE9-47EB-B0C2-856FDD3ACE62   web\n",
       "2  00779BBE-DD64-4909-9909-24F5C8044A7B   web\n",
       "3  00CDC9A8-3D73-4291-90EF-49178E408797   web\n",
       "4  00E15BB2-5568-4466-BA18-A8A8D34FC61C   web"
      ]
     },
     "execution_count": 3,
     "metadata": {},
     "output_type": "execute_result"
    }
   ],
   "source": [
    "data = pd.DataFrame(data,columns=['Filename','Class'])\n",
    "data.head()"
   ]
  },
  {
   "cell_type": "code",
   "execution_count": 4,
   "metadata": {},
   "outputs": [
    {
     "name": "stdout",
     "output_type": "stream",
     "text": [
      "Total number of records: 3500\n",
      "Total number of Web Images: 1750\n",
      "Total number of Android Images: 1750\n",
      "['web' 'android']\n",
      "\n",
      "There are no missing values in the dataset\n"
     ]
    },
    {
     "data": {
      "text/plain": [
       "Text(0, 0.5, 'Number of Images')"
      ]
     },
     "execution_count": 4,
     "metadata": {},
     "output_type": "execute_result"
    },
    {
     "data": {
      "image/png": "[encoded data removed]",
      "text/plain": [
       "<Figure size 432x288 with 1 Axes>"
      ]
     },
     "metadata": {
      "needs_background": "light"
     },
     "output_type": "display_data"
    }
   ],
   "source": [
    "y = data['Class']\n",
    "X = data.drop('Class', axis=1)\n",
    "labels = data['Class'].unique()\n",
    "n_records = len(data)\n",
    "web = len(data[data['Class'] == \"web\"])\n",
    "android = len(data[data['Class'] == \"android\"])\n",
    "print(\"Total number of records: {}\".format(n_records))\n",
    "print(\"Total number of Web Images: {}\".format(web))\n",
    "print(\"Total number of Android Images: {}\".format(android))\n",
    "print(labels)\n",
    "missing_values = data.isnull().sum().sum()\n",
    "if missing_values == 0:\n",
    "    print(\"\\nThere are no missing values in the dataset\")\n",
    "else:\n",
    "    print(\"\\nThe dataset has {} missing values\".format(missing_values))\n",
    "\n",
    "plt.figure(figsize=(6,4))\n",
    "sns.countplot(y, order=labels, palette='Set1')\n",
    "plt.title('Pix2Code Dataset',fontsize=20)\n",
    "plt.xlabel('Image Category', fontsize=16)\n",
    "plt.ylabel('Number of Images', fontsize=16)"
   ]
  },
  {
   "cell_type": "code",
   "execution_count": 5,
   "metadata": {},
   "outputs": [],
   "source": [
    "webpaths = list(data.loc[(data.Class == 'web')]['Filename'])\n",
    "androidpaths = list(data.loc[(data.Class == 'android')]['Filename'])"
   ]
  },
  {
   "cell_type": "code",
   "execution_count": 6,
   "metadata": {},
   "outputs": [
    {
     "data": {
      "image/png": "[encoded data removed]",
      "text/plain": [
       "<Figure size 864x864 with 1 Axes>"
      ]
     },
     "metadata": {
      "needs_background": "light"
     },
     "output_type": "display_data"
    }
   ],
   "source": [
    "webimg =\"datasets/web/all_data/\"+webpaths[0]+\".png\"\n",
    "img = cv2.imread(webimg)\n",
    "plt.figure(figsize=(12,12))\n",
    "plt.imshow(img)\n",
    "plt.title('Web Design')\n",
    "plt.show()"
   ]
  },
  {
   "cell_type": "code",
   "execution_count": 7,
   "metadata": {},
   "outputs": [
    {
     "data": {
      "image/png": "[encoded data removed]",
      "text/plain": [
       "<Figure size 864x720 with 1 Axes>"
      ]
     },
     "metadata": {
      "needs_background": "light"
     },
     "output_type": "display_data"
    }
   ],
   "source": [
    "androidimg =\"datasets/android/all_data/\"+androidpaths[0]+\".png\"\n",
    "img = cv2.imread(androidimg)\n",
    "plt.figure(figsize=(12,10))\n",
    "plt.imshow(img)\n",
    "plt.title('Android Design')\n",
    "plt.show()"
   ]
  },
  {
   "cell_type": "code",
   "execution_count": 8,
   "metadata": {},
   "outputs": [
    {
     "name": "stdout",
     "output_type": "stream",
     "text": [
      "Splitting datasets, training samples: 1500.0, evaluation samples: 250.0\n"
     ]
    }
   ],
   "source": [
    "\n",
    "\n",
    "distribution = 6\n",
    "TRAINING_SET_NAME = \"training_set\"\n",
    "EVALUATION_SET_NAME = \"eval_set\"\n",
    "\n",
    "evaluation_samples_number = len(webpaths) / (distribution + 1)\n",
    "training_samples_number = evaluation_samples_number * distribution\n",
    "\n",
    "\n",
    "print(\"Splitting datasets, training samples: {}, evaluation samples: {}\".format(training_samples_number, evaluation_samples_number))"
   ]
  },
  {
   "cell_type": "code",
   "execution_count": 9,
   "metadata": {},
   "outputs": [
    {
     "name": "stdout",
     "output_type": "stream",
     "text": [
      "250 1500\n"
     ]
    }
   ],
   "source": [
    "input_path = \"datasets/web/all_data\"\n",
    "np.random.shuffle(webpaths)\n",
    "\n",
    "eval_set = []\n",
    "train_set = []\n",
    "\n",
    "hashes = []\n",
    "for path in webpaths:\n",
    "    if sys.version_info >= (3,):\n",
    "        f = open(\"{}/{}.gui\".format(input_path, path), 'r', encoding='utf-8')\n",
    "    else:\n",
    "        f = open(\"{}/{}.gui\".format(input_path, path), 'r')\n",
    "\n",
    "    with f:\n",
    "        chars = \"\"\n",
    "        for line in f:\n",
    "            chars += line\n",
    "        content_hash = chars.replace(\" \", \"\").replace(\"\\n\", \"\")\n",
    "        content_hash = hashlib.sha256(content_hash.encode('utf-8')).hexdigest()\n",
    "\n",
    "        if len(eval_set) == evaluation_samples_number:\n",
    "            train_set.append(path)\n",
    "        else:\n",
    "            is_unique = True\n",
    "            for h in hashes:\n",
    "                if h is content_hash:\n",
    "                    is_unique = False\n",
    "                    break\n",
    "\n",
    "            if is_unique:\n",
    "                eval_set.append(path)\n",
    "            else:\n",
    "                train_set.append(path)\n",
    "\n",
    "        hashes.append(content_hash)\n",
    "\n",
    "print(len(eval_set),len(train_set))"
   ]
  },
  {
   "cell_type": "code",
   "execution_count": 10,
   "metadata": {},
   "outputs": [
    {
     "name": "stdout",
     "output_type": "stream",
     "text": [
      "Training dataset: datasets/web/training_set\n",
      "Evaluation dataset: datasets/web/eval_set\n"
     ]
    }
   ],
   "source": [
    "if not os.path.exists(\"{}/{}\".format(os.path.dirname(input_path), EVALUATION_SET_NAME)):\n",
    "    os.makedirs(\"{}/{}\".format(os.path.dirname(input_path), EVALUATION_SET_NAME))\n",
    "\n",
    "if not os.path.exists(\"{}/{}\".format(os.path.dirname(input_path), TRAINING_SET_NAME)):\n",
    "    os.makedirs(\"{}/{}\".format(os.path.dirname(input_path), TRAINING_SET_NAME))\n",
    "\n",
    "for path in eval_set:\n",
    "    shutil.copyfile(\"{}/{}.png\".format(input_path, path), \"{}/{}/{}.png\".format(os.path.dirname(input_path), EVALUATION_SET_NAME, path))\n",
    "    shutil.copyfile(\"{}/{}.gui\".format(input_path, path), \"{}/{}/{}.gui\".format(os.path.dirname(input_path), EVALUATION_SET_NAME, path))\n",
    "\n",
    "for path in train_set:\n",
    "    shutil.copyfile(\"{}/{}.png\".format(input_path, path), \"{}/{}/{}.png\".format(os.path.dirname(input_path), TRAINING_SET_NAME, path))\n",
    "    shutil.copyfile(\"{}/{}.gui\".format(input_path, path), \"{}/{}/{}.gui\".format(os.path.dirname(input_path), TRAINING_SET_NAME, path))\n",
    "\n",
    "print(\"Training dataset: {}/training_set\".format(os.path.dirname(input_path), path))\n",
    "print(\"Evaluation dataset: {}/eval_set\".format(os.path.dirname(input_path), path))"
   ]
  },
  {
   "cell_type": "code",
   "execution_count": 11,
   "metadata": {},
   "outputs": [
    {
     "name": "stdout",
     "output_type": "stream",
     "text": [
      "250 1500\n"
     ]
    }
   ],
   "source": [
    "input_path = \"datasets/android/all_data\"\n",
    "np.random.shuffle(androidpaths)\n",
    "\n",
    "eval_set = []\n",
    "train_set = []\n",
    "\n",
    "hashes = []\n",
    "for path in androidpaths:\n",
    "    if sys.version_info >= (3,):\n",
    "        f = open(\"{}/{}.gui\".format(input_path, path), 'r', encoding='utf-8')\n",
    "    else:\n",
    "        f = open(\"{}/{}.gui\".format(input_path, path), 'r')\n",
    "\n",
    "    with f:\n",
    "        chars = \"\"\n",
    "        for line in f:\n",
    "            chars += line\n",
    "        content_hash = chars.replace(\" \", \"\").replace(\"\\n\", \"\")\n",
    "        content_hash = hashlib.sha256(content_hash.encode('utf-8')).hexdigest()\n",
    "\n",
    "        if len(eval_set) == evaluation_samples_number:\n",
    "            train_set.append(path)\n",
    "        else:\n",
    "            is_unique = True\n",
    "            for h in hashes:\n",
    "                if h is content_hash:\n",
    "                    is_unique = False\n",
    "                    break\n",
    "\n",
    "            if is_unique:\n",
    "                eval_set.append(path)\n",
    "            else:\n",
    "                train_set.append(path)\n",
    "\n",
    "        hashes.append(content_hash)\n",
    "\n",
    "print(len(eval_set),len(train_set))"
   ]
  },
  {
   "cell_type": "code",
   "execution_count": 12,
   "metadata": {},
   "outputs": [
    {
     "name": "stdout",
     "output_type": "stream",
     "text": [
      "Training dataset: datasets/android/training_set\n",
      "Evaluation dataset: datasets/android/eval_set\n"
     ]
    }
   ],
   "source": [
    "if not os.path.exists(\"{}/{}\".format(os.path.dirname(input_path), EVALUATION_SET_NAME)):\n",
    "    os.makedirs(\"{}/{}\".format(os.path.dirname(input_path), EVALUATION_SET_NAME))\n",
    "\n",
    "if not os.path.exists(\"{}/{}\".format(os.path.dirname(input_path), TRAINING_SET_NAME)):\n",
    "    os.makedirs(\"{}/{}\".format(os.path.dirname(input_path), TRAINING_SET_NAME))\n",
    "\n",
    "for path in eval_set:\n",
    "    shutil.copyfile(\"{}/{}.png\".format(input_path, path), \"{}/{}/{}.png\".format(os.path.dirname(input_path), EVALUATION_SET_NAME, path))\n",
    "    shutil.copyfile(\"{}/{}.gui\".format(input_path, path), \"{}/{}/{}.gui\".format(os.path.dirname(input_path), EVALUATION_SET_NAME, path))\n",
    "\n",
    "for path in train_set:\n",
    "    shutil.copyfile(\"{}/{}.png\".format(input_path, path), \"{}/{}/{}.png\".format(os.path.dirname(input_path), TRAINING_SET_NAME, path))\n",
    "    shutil.copyfile(\"{}/{}.gui\".format(input_path, path), \"{}/{}/{}.gui\".format(os.path.dirname(input_path), TRAINING_SET_NAME, path))\n",
    "\n",
    "print(\"Training dataset: {}/training_set\".format(os.path.dirname(input_path), path))\n",
    "print(\"Evaluation dataset: {}/eval_set\".format(os.path.dirname(input_path), path))"
   ]
  },
  {
   "cell_type": "code",
   "execution_count": null,
   "metadata": {},
   "outputs": [],
   "source": []
  },
  {
   "cell_type": "code",
   "execution_count": null,
   "metadata": {},
   "outputs": [],
   "source": []
  },
  {
   "cell_type": "code",
   "execution_count": null,
   "metadata": {},
   "outputs": [],
   "source": []
  }
 ],
 "metadata": {
  "kernelspec": {
   "display_name": "Python 3",
   "language": "python",
   "name": "python3"
  },
  "language_info": {
   "codemirror_mode": {
    "name": "ipython",
    "version": 3
   },
   "file_extension": ".py",
   "mimetype": "text/x-python",
   "name": "python",
   "nbconvert_exporter": "python",
   "pygments_lexer": "ipython3",
   "version": "3.7.2"
  }
 },
 "nbformat": 4,
 "nbformat_minor": 2
}
