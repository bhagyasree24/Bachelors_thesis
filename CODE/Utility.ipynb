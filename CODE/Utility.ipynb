{
 "cells": [
  {
   "cell_type": "code",
   "execution_count": 1,
   "metadata": {},
   "outputs": [],
   "source": [
    "import string\n",
    "import random\n",
    "\n",
    "\n",
    "class Utility:\n",
    "    @staticmethod\n",
    "    def get_random_text(length_text=10, space_number=1, with_upper_case=True):\n",
    "        results = []\n",
    "        while len(results) < length_text:\n",
    "            char = random.choice(string.ascii_letters[:26])\n",
    "            results.append(char)\n",
    "        if with_upper_case:\n",
    "            results[0] = results[0].upper()\n",
    "\n",
    "        current_spaces = []\n",
    "        while len(current_spaces) < space_number:\n",
    "            space_pos = random.randint(2, length_text - 3)\n",
    "            if space_pos in current_spaces:\n",
    "                break\n",
    "            results[space_pos] = \" \"\n",
    "            if with_upper_case:\n",
    "                results[space_pos + 1] = results[space_pos - 1].upper()\n",
    "\n",
    "            current_spaces.append(space_pos)\n",
    "\n",
    "        return ''.join(results)\n",
    "\n",
    "    @staticmethod\n",
    "    def get_ios_id(length=10):\n",
    "        results = []\n",
    "\n",
    "        while len(results) < length:\n",
    "            char = random.choice(string.digits + string.ascii_letters)\n",
    "            results.append(char)\n",
    "\n",
    "        results[3] = \"-\"\n",
    "        results[6] = \"-\"\n",
    "\n",
    "        return ''.join(results)\n",
    "\n",
    "    @staticmethod\n",
    "    def get_android_id(length=10):\n",
    "        results = []\n",
    "\n",
    "        while len(results) < length:\n",
    "            char = random.choice(string.ascii_letters)\n",
    "            results.append(char)\n",
    "\n",
    "        return ''.join(results)\n"
   ]
  },
  {
   "cell_type": "code",
   "execution_count": null,
   "metadata": {},
   "outputs": [],
   "source": []
  }
 ],
 "metadata": {
  "kernelspec": {
   "display_name": "Python 3",
   "language": "python",
   "name": "python3"
  },
  "language_info": {
   "codemirror_mode": {
    "name": "ipython",
    "version": 3
   },
   "file_extension": ".py",
   "mimetype": "text/x-python",
   "name": "python",
   "nbconvert_exporter": "python",
   "pygments_lexer": "ipython3",
   "version": "3.7.2"
  }
 },
 "nbformat": 4,
 "nbformat_minor": 2
}
