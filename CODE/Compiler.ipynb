{
 "cells": [
  {
   "cell_type": "code",
   "execution_count": 1,
   "metadata": {},
   "outputs": [
    {
     "name": "stdout",
     "output_type": "stream",
     "text": [
      "importing Jupyter notebook from Node.ipynb\n"
     ]
    }
   ],
   "source": [
    "import json\n",
    "import import_ipynb\n",
    "from Node import *\n",
    "\n",
    "\n",
    "class Compiler:\n",
    "    def __init__(self, dsl_mapping_file_path):\n",
    "        with open(dsl_mapping_file_path) as data_file:\n",
    "            self.dsl_mapping = json.load(data_file)\n",
    "\n",
    "        self.opening_tag = self.dsl_mapping[\"opening-tag\"]\n",
    "        self.closing_tag = self.dsl_mapping[\"closing-tag\"]\n",
    "        self.content_holder = self.opening_tag + self.closing_tag\n",
    "\n",
    "        self.root = Node(\"body\", None, self.content_holder)\n",
    "\n",
    "    def compile(self, input_file_path, output_file_path, rendering_function=None):\n",
    "        dsl_file = open(input_file_path)\n",
    "        current_parent = self.root\n",
    "\n",
    "        for token in dsl_file:\n",
    "            token = token.replace(\" \", \"\").replace(\"\\n\", \"\")\n",
    "\n",
    "            if token.find(self.opening_tag) != -1:\n",
    "                token = token.replace(self.opening_tag, \"\")\n",
    "\n",
    "                element = Node(token, current_parent, self.content_holder)\n",
    "                current_parent.add_child(element)\n",
    "                current_parent = element\n",
    "            elif token.find(self.closing_tag) != -1:\n",
    "                current_parent = current_parent.parent\n",
    "            else:\n",
    "                tokens = token.split(\",\")\n",
    "                for t in tokens:\n",
    "                    element = Node(t, current_parent, self.content_holder)\n",
    "                    current_parent.add_child(element)\n",
    "\n",
    "        output_html = self.root.render(self.dsl_mapping, rendering_function=rendering_function)\n",
    "        with open(output_file_path, 'w') as output_file:\n",
    "            output_file.write(output_html)\n",
    "        #print(output_html)"
   ]
  },
  {
   "cell_type": "code",
   "execution_count": null,
   "metadata": {},
   "outputs": [],
   "source": []
  }
 ],
 "metadata": {
  "kernelspec": {
   "display_name": "Python 3",
   "language": "python",
   "name": "python3"
  },
  "language_info": {
   "codemirror_mode": {
    "name": "ipython",
    "version": 3
   },
   "file_extension": ".py",
   "mimetype": "text/x-python",
   "name": "python",
   "nbconvert_exporter": "python",
   "pygments_lexer": "ipython3",
   "version": "3.7.2"
  }
 },
 "nbformat": 4,
 "nbformat_minor": 2
}
