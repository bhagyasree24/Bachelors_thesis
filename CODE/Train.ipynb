{
 "cells": [
  {
   "cell_type": "code",
   "execution_count": 0,
   "metadata": {
    "colab": {
     "base_uri": "https://localhost:8080/",
     "height": 34
    },
    "colab_type": "code",
    "executionInfo": {
     "elapsed": 11258,
     "status": "ok",
     "timestamp": 1591556139829,
     "user": {
      "displayName": "Sahaj d",
      "photoUrl": "",
      "userId": "13950582096679244504"
     },
     "user_tz": -330
    },
    "id": "Mh_Q6g-5qMUD",
    "outputId": "f6e233d2-e524-4240-b57b-8f4bd05c8900"
   },
   "outputs": [
    {
     "name": "stdout",
     "output_type": "stream",
     "text": [
      "Requirement already satisfied: import_ipynb in /usr/local/lib/python3.6/dist-packages (0.1.3)\n"
     ]
    }
   ],
   "source": [
    "!pip install import_ipynb\n",
    "import os\n",
    "import import_ipynb\n",
    "\n",
    "!pip install -U -q PyDrive\n",
    "from pydrive.auth import GoogleAuth\n",
    "from pydrive.drive import GoogleDrive\n",
    "from google.colab import auth\n",
    "from oauth2client.client import GoogleCredentials\n",
    "\n",
    "# Authenticate and create the PyDrive client.\n",
    "# This only needs to be done once per notebook.\n",
    "auth.authenticate_user()\n",
    "gauth = GoogleAuth()\n",
    "gauth.credentials = GoogleCredentials.get_application_default()\n",
    "drive = GoogleDrive(gauth)\n",
    "your_module = drive.CreateFile({'id':'13Tk_YigwTbRSNC8Wba8gr3EtduYXaOz5'})\n",
    "your_module.GetContentFile('Vocabulary.ipynb')\n",
    "\n",
    "your_module = drive.CreateFile({'id':'1Xkp7QG-bkM04BY0em4rRU6N7OZ_Ozcbk'})\n",
    "your_module.GetContentFile('Dataset.ipynb')\n",
    "\n",
    "your_module = drive.CreateFile({'id':'1aciM2iwbCMOdnKyxPtmby3cGN5gAWVj2'})\n",
    "your_module.GetContentFile('Generator.ipynb')\n",
    "\n",
    "your_module = drive.CreateFile({'id':'1IRjfwbTrCj9woVO4-bd79THIVoDArmwr'})\n",
    "your_module.GetContentFile('Pix2Code.ipynb')\n",
    "\n",
    "\n",
    "from Vocabulary import *\n",
    "from Dataset import *\n",
    "from Generator import *\n",
    "from Pix2Code import *\n",
    "import json\n",
    "\n",
    "import numpy as np"
   ]
  },
  {
   "cell_type": "code",
   "execution_count": 0,
   "metadata": {
    "colab": {},
    "colab_type": "code",
    "id": "NupMp62K5xA9"
   },
   "outputs": [],
   "source": [
    "import os"
   ]
  },
  {
   "cell_type": "code",
   "execution_count": 0,
   "metadata": {
    "colab": {
     "base_uri": "https://localhost:8080/",
     "height": 34
    },
    "colab_type": "code",
    "executionInfo": {
     "elapsed": 918,
     "status": "ok",
     "timestamp": 1591556148085,
     "user": {
      "displayName": "Sahaj d",
      "photoUrl": "",
      "userId": "13950582096679244504"
     },
     "user_tz": -330
    },
    "id": "74nx9YOfqMUO",
    "outputId": "80bda935-06f4-4848-b88a-7f69016b24b1"
   },
   "outputs": [
    {
     "name": "stdout",
     "output_type": "stream",
     "text": [
      "Drive already mounted at /content/drive; to attempt to forcibly remount, call drive.mount(\"/content/drive\", force_remount=True).\n"
     ]
    }
   ],
   "source": [
    "from google.colab import drive\n",
    "drive.mount('/content/drive')"
   ]
  },
  {
   "cell_type": "code",
   "execution_count": 0,
   "metadata": {
    "colab": {},
    "colab_type": "code",
    "id": "snfT1s1tqMUW"
   },
   "outputs": [],
   "source": [
    "def startTraining(input_path, output_path):\n",
    "    np.random.seed(1234)\n",
    "\n",
    "    dataset = Dataset()\n",
    "    dataset.load(input_path, generate_binary_sequences=True)\n",
    "    dataset.save_metadata(output_path)\n",
    "    dataset.voc.save(output_path)\n",
    "\n",
    "    gui_paths, img_paths = Dataset.load_paths_only(input_path)\n",
    "\n",
    "    input_shape = dataset.input_shape\n",
    "    output_size = dataset.output_size\n",
    "    steps_per_epoch = dataset.size / BATCH_SIZE\n",
    "\n",
    "    voc = Vocabulary()\n",
    "    voc.retrieve(output_path)\n",
    "\n",
    "    generator = Generator.data_generator(voc, gui_paths, img_paths, batch_size=BATCH_SIZE, generate_binary_sequences=True)\n",
    "\n",
    "    model = pix2code(input_shape, output_size, output_path)\n",
    "\n",
    "    \n",
    "    history = model.fit_generator(generator, steps_per_epoch=steps_per_epoch)\n"
   ]
  },
  {
   "cell_type": "code",
   "execution_count": 0,
   "metadata": {
    "colab": {
     "base_uri": "https://localhost:8080/",
     "height": 510
    },
    "colab_type": "code",
    "executionInfo": {
     "elapsed": 17620089,
     "status": "ok",
     "timestamp": 1591574693634,
     "user": {
      "displayName": "Sahaj d",
      "photoUrl": "",
      "userId": "13950582096679244504"
     },
     "user_tz": -330
    },
    "id": "r762KEEZqMUc",
    "outputId": "6f7b4d23-36b8-4f12-c698-52b24bc9d44b"
   },
   "outputs": [
    {
     "name": "stdout",
     "output_type": "stream",
     "text": [
      "Web Training Started...\n",
      "Loading data...\n",
      "Generating sparse vectors...\n",
      "Dataset size: 144143\n",
      "Vocabulary size: 19\n",
      "Input shape: (256, 256, 3)\n",
      "Output size: 19\n",
      "Parsing data...\n",
      "Epoch 1/10\n",
      "2253/2252 [==============================] - 1707s 758ms/step - loss: 0.5839 - accuracy: 0.7720\n",
      "Epoch 2/10\n",
      "2253/2252 [==============================] - 1695s 752ms/step - loss: 0.1689 - accuracy: 0.9058\n",
      "Epoch 3/10\n",
      "2253/2252 [==============================] - 1735s 770ms/step - loss: 0.1562 - accuracy: 0.9098\n",
      "Epoch 4/10\n",
      "2253/2252 [==============================] - 1736s 770ms/step - loss: 0.1514 - accuracy: 0.9125\n",
      "Epoch 5/10\n",
      "2253/2252 [==============================] - 1739s 772ms/step - loss: 0.1466 - accuracy: 0.9151\n",
      "Epoch 6/10\n",
      "2253/2252 [==============================] - 1716s 761ms/step - loss: 0.1448 - accuracy: 0.9156\n",
      "Epoch 7/10\n",
      "2253/2252 [==============================] - 1721s 764ms/step - loss: 0.1439 - accuracy: 0.9159\n",
      "Epoch 8/10\n",
      "2253/2252 [==============================] - 1723s 765ms/step - loss: 0.1437 - accuracy: 0.9164\n",
      "Epoch 9/10\n",
      "2253/2252 [==============================] - 1734s 770ms/step - loss: 0.1438 - accuracy: 0.9166\n",
      "Epoch 10/10\n",
      "2253/2252 [==============================] - 1756s 779ms/step - loss: 0.1431 - accuracy: 0.9161\n",
      "Web Training Completed and Model Saved...\n"
     ]
    }
   ],
   "source": [
    "# Web Training\n",
    "input_path = 'drive/My Drive/Pix2Code/datasets/web/training_features'\n",
    "output_path = 'drive/My Drive/Pix2Code/WebModel'\n",
    "print(\"Web Training Started...\")\n",
    "history = startTraining(input_path, output_path)\n",
    "\n",
    "print(\"Web Training Completed and Model Saved...\")\n",
    "\n"
   ]
  },
  {
   "cell_type": "code",
   "execution_count": 3,
   "metadata": {
    "colab": {
     "base_uri": "https://localhost:8080/",
     "height": 299
    },
    "colab_type": "code",
    "executionInfo": {
     "elapsed": 1009,
     "status": "ok",
     "timestamp": 1591597087293,
     "user": {
      "displayName": "Sahaj d",
      "photoUrl": "",
      "userId": "13950582096679244504"
     },
     "user_tz": -330
    },
    "id": "twwWH9t5KiVA",
    "outputId": "b9543bc9-e16b-4b58-cd1e-b1d60c7ffb5e"
   },
   "outputs": [
    {
     "name": "stdout",
     "output_type": "stream",
     "text": [
      "Web Training Accuracy Plot\n"
     ]
    },
    {
     "data": {
      "text/plain": [
       "[<matplotlib.lines.Line2D at 0x7fb326bcd5f8>]"
      ]
     },
     "execution_count": 3,
     "metadata": {
      "tags": []
     },
     "output_type": "execute_result"
    },
    {
     "data": {
      "image/png": "[encoded data removed]",
      "text/plain": [
       "<Figure size 432x288 with 1 Axes>"
      ]
     },
     "metadata": {
      "needs_background": "light",
      "tags": []
     },
     "output_type": "display_data"
    }
   ],
   "source": [
    "from matplotlib import pyplot as plt\n",
    "\n",
    "print(\"Web Training Accuracy Plot\")\n",
    "plt.plot(history['accuracy'])"
   ]
  },
  {
   "cell_type": "code",
   "execution_count": 4,
   "metadata": {
    "colab": {
     "base_uri": "https://localhost:8080/",
     "height": 301
    },
    "colab_type": "code",
    "executionInfo": {
     "elapsed": 869,
     "status": "ok",
     "timestamp": 1591597235139,
     "user": {
      "displayName": "Sahaj d",
      "photoUrl": "",
      "userId": "13950582096679244504"
     },
     "user_tz": -330
    },
    "id": "tRv8WdwpKjKV",
    "outputId": "1c810646-b672-48f0-ec9f-530e7a871ff3"
   },
   "outputs": [
    {
     "name": "stdout",
     "output_type": "stream",
     "text": [
      "Web Training Loss Plot\n"
     ]
    },
    {
     "data": {
      "text/plain": [
       "[<matplotlib.lines.Line2D at 0x7fb326b025f8>]"
      ]
     },
     "execution_count": 4,
     "metadata": {
      "tags": []
     },
     "output_type": "execute_result"
    },
    {
     "data": {
      "image/png": "[encoded data removed]",
      "text/plain": [
       "<Figure size 432x288 with 1 Axes>"
      ]
     },
     "metadata": {
      "needs_background": "light",
      "tags": []
     },
     "output_type": "display_data"
    }
   ],
   "source": [
    "print(\"Web Training Loss Plot\")\n",
    "plt.plot(history['loss'])"
   ]
  },
  {
   "cell_type": "code",
   "execution_count": 0,
   "metadata": {
    "colab": {
     "base_uri": "https://localhost:8080/",
     "height": 510
    },
    "colab_type": "code",
    "executionInfo": {
     "elapsed": 11271496,
     "status": "ok",
     "timestamp": 1591587103331,
     "user": {
      "displayName": "Sahaj d",
      "photoUrl": "",
      "userId": "13950582096679244504"
     },
     "user_tz": -330
    },
    "id": "X_57fEEU2-lD",
    "outputId": "3958ced5-cd4a-4494-8cf2-50778727ec6d"
   },
   "outputs": [
    {
     "name": "stdout",
     "output_type": "stream",
     "text": [
      "Android Training Started...\n",
      "Loading data...\n",
      "Generating sparse vectors...\n",
      "Dataset size: 85946\n",
      "Vocabulary size: 20\n",
      "Input shape: (256, 256, 3)\n",
      "Output size: 20\n",
      "Parsing data...\n",
      "Epoch 1/10\n",
      "1343/1342 [==============================] - 1029s 766ms/step - loss: 1.1941 - accuracy: 0.6079\n",
      "Epoch 2/10\n",
      "1343/1342 [==============================] - 1035s 770ms/step - loss: 0.3663 - accuracy: 0.8231\n",
      "Epoch 3/10\n",
      "1343/1342 [==============================] - 1032s 769ms/step - loss: 0.3424 - accuracy: 0.8283\n",
      "Epoch 4/10\n",
      "1343/1342 [==============================] - 1029s 766ms/step - loss: 0.3349 - accuracy: 0.8303\n",
      "Epoch 5/10\n",
      "1343/1342 [==============================] - 1021s 761ms/step - loss: 0.3330 - accuracy: 0.8310\n",
      "Epoch 6/10\n",
      "1343/1342 [==============================] - 1027s 765ms/step - loss: 0.3316 - accuracy: 0.8315\n",
      "Epoch 7/10\n",
      "1343/1342 [==============================] - 1029s 766ms/step - loss: 0.3299 - accuracy: 0.8314\n",
      "Epoch 8/10\n",
      "1343/1342 [==============================] - 1026s 764ms/step - loss: 0.3292 - accuracy: 0.8324\n",
      "Epoch 9/10\n",
      "1343/1342 [==============================] - 1020s 759ms/step - loss: 0.3305 - accuracy: 0.8321\n",
      "Epoch 10/10\n",
      "1343/1342 [==============================] - 1022s 761ms/step - loss: 0.3294 - accuracy: 0.8318\n",
      "Android Training Completed and Model Saved...\n"
     ]
    }
   ],
   "source": [
    "# Android Training\n",
    "input_path = 'drive/My Drive/Pix2Code/datasets/android/training_features'\n",
    "output_path = 'drive/My Drive/Pix2Code/AndroidModel'\n",
    "print(\"Android Training Started...\")\n",
    "androidhistory = startTraining(input_path, output_path)\n",
    "\n",
    "print(\"Android Training Completed and Model Saved...\")"
   ]
  },
  {
   "cell_type": "code",
   "execution_count": 5,
   "metadata": {
    "colab": {
     "base_uri": "https://localhost:8080/",
     "height": 299
    },
    "colab_type": "code",
    "executionInfo": {
     "elapsed": 1398,
     "status": "ok",
     "timestamp": 1591597464607,
     "user": {
      "displayName": "Sahaj d",
      "photoUrl": "",
      "userId": "13950582096679244504"
     },
     "user_tz": -330
    },
    "id": "YaBzYj9UkNp-",
    "outputId": "86ca259c-7a56-4af9-9363-14b3852fb21b"
   },
   "outputs": [
    {
     "name": "stdout",
     "output_type": "stream",
     "text": [
      "Android Training Accuracy Plot\n"
     ]
    },
    {
     "data": {
      "text/plain": [
       "[<matplotlib.lines.Line2D at 0x7fb326adba90>]"
      ]
     },
     "execution_count": 5,
     "metadata": {
      "tags": []
     },
     "output_type": "execute_result"
    },
    {
     "data": {
      "image/png": "[encoded data removed]",
      "text/plain": [
       "<Figure size 432x288 with 1 Axes>"
      ]
     },
     "metadata": {
      "needs_background": "light",
      "tags": []
     },
     "output_type": "display_data"
    }
   ],
   "source": [
    "print(\"Android Training Accuracy Plot\")\n",
    "plt.plot(androidhistory['accuracy'])"
   ]
  },
  {
   "cell_type": "code",
   "execution_count": 6,
   "metadata": {
    "colab": {
     "base_uri": "https://localhost:8080/",
     "height": 299
    },
    "colab_type": "code",
    "executionInfo": {
     "elapsed": 925,
     "status": "ok",
     "timestamp": 1591597604916,
     "user": {
      "displayName": "Sahaj d",
      "photoUrl": "",
      "userId": "13950582096679244504"
     },
     "user_tz": -330
    },
    "id": "No3RfhfBkN4O",
    "outputId": "17055dff-d660-4414-b5e8-0ae7aaf1f4bd"
   },
   "outputs": [
    {
     "name": "stdout",
     "output_type": "stream",
     "text": [
      "Android Training Loss Plot\n"
     ]
    },
    {
     "data": {
      "text/plain": [
       "[<matplotlib.lines.Line2D at 0x7fb326aaef28>]"
      ]
     },
     "execution_count": 6,
     "metadata": {
      "tags": []
     },
     "output_type": "execute_result"
    },
    {
     "data": {
      "image/png": "[encoded data removed]",
      "text/plain": [
       "<Figure size 432x288 with 1 Axes>"
      ]
     },
     "metadata": {
      "needs_background": "light",
      "tags": []
     },
     "output_type": "display_data"
    }
   ],
   "source": [
    "print(\"Android Training Loss Plot\")\n",
    "plt.plot(androidhistory['loss'])"
   ]
  },
  {
   "cell_type": "code",
   "execution_count": 0,
   "metadata": {
    "colab": {},
    "colab_type": "code",
    "id": "RgnfRcVok3ZH"
   },
   "outputs": [],
   "source": []
  }
 ],
 "metadata": {
  "accelerator": "GPU",
  "colab": {
   "collapsed_sections": [],
   "name": "Train.ipynb",
   "provenance": []
  },
  "kernelspec": {
   "display_name": "Python 3",
   "language": "python",
   "name": "python3"
  },
  "language_info": {
   "codemirror_mode": {
    "name": "ipython",
    "version": 3
   },
   "file_extension": ".py",
   "mimetype": "text/x-python",
   "name": "python",
   "nbconvert_exporter": "python",
   "pygments_lexer": "ipython3",
   "version": "3.7.2"
  }
 },
 "nbformat": 4,
 "nbformat_minor": 1
}
